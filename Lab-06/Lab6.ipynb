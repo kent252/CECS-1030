{
 "cells": [
  {
   "cell_type": "markdown",
   "id": "cc87966b",
   "metadata": {},
   "source": [
    "# Introduction to Sorting Algorithms\n",
    "\n",
    "In this notebook, we will conceptually explore three fundamental sorting algorithms:\n",
    "- Selection Sort\n",
    "- Bubble Sort\n",
    "- Merge Sort\n",
    "\n",
    "Understanding how these algorithms work helps build a solid foundation in programming and algorithmic thinking.\n"
   ]
  },
  {
   "cell_type": "markdown",
   "id": "01b63c21",
   "metadata": {},
   "source": [
    "## 1. Selection Sort\n",
    "\n",
    "**Concept**:\n",
    "Selection Sort divides the input list into two parts: a sorted part and an unsorted part. It repeatedly selects the minimum element from the unsorted portion and swaps it with the first element of the unsorted section.\n",
    "\n",
    "**Steps**:\n",
    "1. Start from the first index.\n",
    "2. Find the minimum element in the unsorted part.\n",
    "3. Swap it with the element at the current index.\n",
    "4. Move to the next index and repeat until the list is sorted.\n",
    "\n",
    "**Example**:\n",
    "Input: `64 25 12 22 11`\n",
    "\n",
    "- Pass 1: Find the minimum (`11`) and swap with `64` → `11 25 12 22 64`\n",
    "- Pass 2: Minimum is `12`, swap with `25` → `11 12 25 22 64`\n",
    "- Pass 3: Minimum is `22`, swap with `25` → `11 12 22 25 64`\n",
    "- Pass 4: Already sorted\n",
    "\n",
    "Final Output: `11 12 22 25 64`\n"
   ]
  },
  {
   "cell_type": "markdown",
   "id": "caa3363d",
   "metadata": {},
   "source": [
    "## 2. Bubble Sort\n",
    "\n",
    "**Concept**:\n",
    "Bubble Sort works by repeatedly swapping adjacent elements if they are in the wrong order. It continues to \"bubble\" the largest element to the end in each pass.\n",
    "\n",
    "**Steps**:\n",
    "1. Compare adjacent elements.\n",
    "2. Swap them if they are in the wrong order.\n",
    "3. Continue through the list until no swaps are needed.\n",
    "\n",
    "**Example**:\n",
    "Input: `5 1 4 2 8`\n",
    "\n",
    "- Pass 1: `1 4 2 5 8`\n",
    "- Pass 2: `1 2 4 5 8`\n",
    "- Pass 3: `1 2 4 5 8` (No swaps → sorted)\n",
    "\n",
    "Final Output: `1 2 4 5 8`\n"
   ]
  },
  {
   "cell_type": "markdown",
   "id": "0d8adbde",
   "metadata": {},
   "source": [
    "## 3. Merge Sort\n",
    "\n",
    "**Concept**:\n",
    "Merge Sort is a divide-and-conquer algorithm. It divides the input list into halves, recursively sorts them, and then merges the sorted halves.\n",
    "\n",
    "**Steps**:\n",
    "1. Divide the list into two halves.\n",
    "2. Recursively sort each half.\n",
    "3. Merge the sorted halves into one sorted list.\n",
    "\n",
    "**Example**:\n",
    "Input: `38 27 43 3 9 82 10`\n",
    "\n",
    "- Divide: `[38 27 43]` and `[3 9 82 10]`\n",
    "- Further divide: `[38] [27 43]`, `[3 9] [82 10]`\n",
    "- Merge: `[27 38 43]`, `[3 9]`, `[10 82]`\n",
    "- Final Merge: `3 9 10 27 38 43 82`\n",
    "\n",
    "Final Output: `3 9 10 27 38 43 82`\n"
   ]
  },
  {
   "cell_type": "markdown",
   "id": "82230439",
   "metadata": {},
   "source": [
    "## Conclusion\n",
    "\n",
    "Each sorting algorithm has its advantages and use cases:\n",
    "- **Selection Sort** is simple but not efficient for large datasets.\n",
    "- **Bubble Sort** is educational for understanding swapping but also not optimal.\n",
    "- **Merge Sort** is more efficient and scalable for larger lists.\n",
    "\n",
    "You are encouraged to implement these algorithms and test their performance!\n"
   ]
  }
 ],
 "metadata": {},
 "nbformat": 4,
 "nbformat_minor": 5
}
