{
 "cells": [
  {
   "cell_type": "markdown",
   "id": "5069cd91",
   "metadata": {},
   "source": [
    "# Introduction to Search Algorithms in Python\n",
    "\n",
    "In this notebook, we will learn about:\n",
    "1. **Linear Search**: A simple search algorithm that checks each element one by one.\n",
    "2. **Binary Search**: A more efficient search algorithm that requires a sorted list.\n",
    "\n",
    "Let's dive in!\n"
   ]
  },
  {
   "cell_type": "markdown",
   "id": "601a3fe8",
   "metadata": {},
   "source": [
    "## 1. Linear Search\n",
    "\n",
    "Linear search is a simple searching algorithm that checks each element in the list until the desired element is found.\n",
    "\n",
    "### Algorithm:\n",
    "1. Start from the first element.\n",
    "2. Compare each element with the target value.\n",
    "3. If a match is found, return the index.\n",
    "4. If no match is found, return -1.\n",
    "\n",
    "### Complexity:\n",
    "- **Best case:** O(1) (when the element is found at the beginning)\n",
    "- **Worst case:** O(n) (when the element is at the end or not present)\n"
   ]
  },
  {
   "cell_type": "code",
   "execution_count": null,
   "id": "d36c4279",
   "metadata": {},
   "outputs": [],
   "source": [
    "# Linear Search Function\n",
    "def linear_search(arr, target):\n",
    "    \"\"\"Returns the index of target in arr if found, else -1.\"\"\"\n",
    "    for i in range(len(arr)):\n",
    "        if arr[i] == target:\n",
    "            return i  # Return index where found\n",
    "    return -1  # Return -1 if not found\n",
    "\n",
    "# Example usage\n",
    "arr = [10, 20, 30, 40, 50]\n",
    "target = 30\n",
    "\n",
    "# Searching for the target value\n",
    "result = linear_search(arr, target)\n",
    "print(f\"Element found at index: {result}\" if result != -1 else \"Element not found\")\n"
   ]
  },
  {
   "cell_type": "markdown",
   "id": "29bd5062",
   "metadata": {},
   "source": [
    "## 2. Binary Search\n",
    "\n",
    "Binary search is a much faster searching algorithm but requires the list to be **sorted** beforehand.\n",
    "\n",
    "### Algorithm:\n",
    "1. Find the middle element of the list.\n",
    "2. If it matches the target, return the index.\n",
    "3. If the target is smaller, search in the left half.\n",
    "4. If the target is larger, search in the right half.\n",
    "5. Repeat until the element is found or the search space is empty.\n",
    "\n",
    "### Complexity:\n",
    "- **Best case:** O(1) (when the element is found in the middle)\n",
    "- **Worst case:** O(log n) (dividing the search space in half each time)\n"
   ]
  },
  {
   "cell_type": "code",
   "execution_count": null,
   "id": "6d524a24",
   "metadata": {},
   "outputs": [],
   "source": [
    "# Binary Search Function (Iterative)\n",
    "def binary_search(arr, target):\n",
    "    \"\"\"Returns the index of target in arr if found, else -1.\"\"\"\n",
    "    low, high = 0, len(arr) - 1\n",
    "\n",
    "    while low <= high:\n",
    "        mid = (low + high) // 2  # Find the middle index\n",
    "\n",
    "        if arr[mid] == target:\n",
    "            return mid  # Element found\n",
    "        elif arr[mid] < target:\n",
    "            low = mid + 1  # Search in right half\n",
    "        else:\n",
    "            high = mid - 1  # Search in left half\n",
    "\n",
    "    return -1  # Return -1 if not found\n",
    "\n",
    "# Example usage\n",
    "arr = [10, 20, 30, 40, 50]  # Sorted list\n",
    "target = 30\n",
    "\n",
    "# Searching for the target value\n",
    "result = binary_search(arr, target)\n",
    "print(f\"Element found at index: {result}\" if result != -1 else \"Element not found\")\n"
   ]
  }
 ],
 "metadata": {},
 "nbformat": 4,
 "nbformat_minor": 5
}
