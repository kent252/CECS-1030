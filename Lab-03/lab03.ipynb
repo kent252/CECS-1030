{
 "cells": [
  {
   "attachments": {},
   "cell_type": "markdown",
   "metadata": {},
   "source": [
    "# Lab 03: If-else, loop and built-in function\n",
    "\n",
    "Welcome to Lab 3! In this lab, we will explore If-else, loop and built-in function in Python. By the end of this lab, you'll be able to write more complex programs with conditions and logic.\n",
    "\n",
    "---\n",
    "\n",
    "## Objectives:\n",
    "- Understand how to call built-in function in Python\n",
    "- Learn the different loop approach \n",
    "- Use conditions to control program flow\n",
    "- Practice with if-else, loop and nested if-else, nested loop\n",
    "\n",
    "---\n"
   ]
  },
  {
   "attachments": {},
   "cell_type": "markdown",
   "metadata": {},
   "source": [
    "## 1. Built-in Function\n",
    "\n",
    "In Python, an **built-in function** is a predefined function that is readily available without requiring any imports or additional definitions. Let's see some examples.\n",
    "\n",
    "### Example:\n"
   ]
  },
  {
   "cell_type": "code",
   "execution_count": 2,
   "metadata": {},
   "outputs": [
    {
     "name": "stdout",
     "output_type": "stream",
     "text": [
      "The result is: 10\n"
     ]
    }
   ],
   "source": [
    "# Basic built-in function\n",
    "\n",
    "result = round(10.2) # Rounds a number\n",
    "print(\"The result is:\", result)"
   ]
  },
  {
   "attachments": {},
   "cell_type": "markdown",
   "metadata": {},
   "source": [
    "### Task 1:\n",
    "- Define two negative variables `a` and `b`.\n",
    "- Use built-in function to calculate absolute of them\n",
    "- Print the result."
   ]
  },
  {
   "attachments": {},
   "cell_type": "markdown",
   "metadata": {},
   "source": [
    "## 2. If-else\n",
    "Conditional statements in Python allow programs to execute different blocks of code based on conditions. The if-else statement is used for decision-making.\n",
    "\n",
    "Python supports multiple variations of if-else:\n",
    "- Simple if statement – Executes a block of code only if the condition is true.\n",
    "- if-else statement – Executes one block if true, another if false.\n",
    "- if-elif-else statement – Allows multiple conditions to be checked.\n",
    "- Nested if statement – Places one if inside another.\n",
    "\n",
    "These operators are used with **Boolean** values (`True` or `False`).\n",
    "\n",
    "### Example:"
   ]
  },
  {
   "cell_type": "code",
   "execution_count": 3,
   "metadata": {},
   "outputs": [
    {
     "name": "stdout",
     "output_type": "stream",
     "text": [
      "a is True\n"
     ]
    }
   ],
   "source": [
    "# Using logical operators\n",
    "a = True\n",
    "\n",
    "if a:\n",
    "    print(\"a is True\")\n",
    "\n",
    "else:\n",
    "    print(\"a is false\")\n",
    "\n"
   ]
  },
  {
   "attachments": {},
   "cell_type": "markdown",
   "metadata": {},
   "source": [
    "### Task 2:\n",
    "- Create a variable represents the age of a person.\n",
    "- Check if this person is teenage or not\n"
   ]
  },
  {
   "attachments": {},
   "cell_type": "markdown",
   "metadata": {},
   "source": [
    "## 3. Conditional Statements (if, elif, else)\n",
    "\n",
    "Loops in Python allow us to execute a block of code multiple times without repeating it manually. Python supports two types of loops: for loops and while loops.\n",
    "- A for loop is used to iterate over a sequence (such as a list, tuple, string, or range of numbers).\n",
    "- A while loop executes a block of code repeatedly as long as a given condition is True.\n",
    "\n",
    "### Example:"
   ]
  },
  {
   "cell_type": "code",
   "execution_count": 4,
   "metadata": {},
   "outputs": [
    {
     "name": "stdout",
     "output_type": "stream",
     "text": [
      "apple\n",
      "banana\n",
      "cherry\n"
     ]
    }
   ],
   "source": [
    "# For loop\n",
    "fruits = [\"apple\", \"banana\", \"cherry\"]\n",
    "for fruit in fruits:\n",
    "    print(fruit)"
   ]
  },
  {
   "cell_type": "code",
   "execution_count": 5,
   "metadata": {},
   "outputs": [
    {
     "name": "stdout",
     "output_type": "stream",
     "text": [
      "1\n",
      "2\n",
      "3\n",
      "4\n",
      "5\n"
     ]
    }
   ],
   "source": [
    "# While loop\n",
    "num = 1\n",
    "while num <= 5:\n",
    "    print(num)\n",
    "    num += 1\n"
   ]
  },
  {
   "attachments": {},
   "cell_type": "markdown",
   "metadata": {},
   "source": [
    "Python provides loop control statements that allow us to modify the execution of loops.\n",
    "- The break statement exits the loop as soon as the condition is met.\n",
    "- The continue statement skips the rest of the current loop iteration and moves to the next one.\n",
    "- The pass statement does nothing but is used as a placeholder for future code."
   ]
  },
  {
   "cell_type": "code",
   "execution_count": null,
   "metadata": {},
   "outputs": [],
   "source": [
    "# Break statement\n",
    "for num in range(1, 10):\n",
    "    if num == 5:\n",
    "        break\n",
    "    print(num)\n"
   ]
  },
  {
   "cell_type": "code",
   "execution_count": null,
   "metadata": {},
   "outputs": [],
   "source": [
    "# Continue statement\n",
    "for num in range(1, 6):\n",
    "    if num == 3:\n",
    "        continue\n",
    "    print(num)\n"
   ]
  },
  {
   "cell_type": "code",
   "execution_count": null,
   "metadata": {},
   "outputs": [],
   "source": [
    "# Pass statement\n",
    "for num in range(1, 4):\n",
    "    if num == 2:\n",
    "        pass  # Placeholder for future logic\n",
    "    else:\n",
    "        print(num)"
   ]
  },
  {
   "attachments": {},
   "cell_type": "markdown",
   "metadata": {},
   "source": [
    "### Task 3:\n",
    "- Write a program that takes the number as input from the user.\n",
    "- Print all the number except 3 5 6."
   ]
  },
  {
   "attachments": {},
   "cell_type": "markdown",
   "metadata": {},
   "source": [
    "\n",
    "## 7. Conclusion\n",
    "\n",
    "In this lab, you learned how to:\n",
    "- Work with built-in function.\n",
    "- Write conditional statements using `if`, `elif`, and `else`.\n",
    "- Write loop using `for-loop` or `while-loop`.\n",
    "- Combine multiple conditions to control the flow of your program.\n",
    "\n",
    "Keep practicing these concepts, as they form the foundation for decision-making in Python programming.\n",
    "\n",
    "---\n",
    "\n",
    "## Homework:\n",
    "1. Write a program that takes three numbers as input from the user and prints the largest one.\n",
    "2. Write a program that checks whether a year is a leap year or not. A leap year is divisible by 4 but not divisible by 100 unless it is also divisible by 400.\n",
    "\n",
    "---\n",
    "\n",
    "**End of Lab 3**\n",
    "\n",
    "---"
   ]
  }
 ],
 "metadata": {
  "kernelspec": {
   "display_name": "ml",
   "language": "python",
   "name": "python3"
  },
  "language_info": {
   "codemirror_mode": {
    "name": "ipython",
    "version": 3
   },
   "file_extension": ".py",
   "mimetype": "text/x-python",
   "name": "python",
   "nbconvert_exporter": "python",
   "pygments_lexer": "ipython3",
   "version": "3.9.13"
  }
 },
 "nbformat": 4,
 "nbformat_minor": 2
}
