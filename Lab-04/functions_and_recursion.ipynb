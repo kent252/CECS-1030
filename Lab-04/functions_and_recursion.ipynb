{
 "cells": [
  {
   "cell_type": "markdown",
   "id": "45bbaa13",
   "metadata": {},
   "source": [
    "# Introduction to Functions and Recursion in Python\n",
    "\n",
    "In this notebook, we will learn:\n",
    "1. How to define and use functions in Python.\n",
    "2. How to import functions from different files.\n",
    "3. How recursion works with simple examples.\n",
    "\n",
    "Let's get started!\n"
   ]
  },
  {
   "cell_type": "markdown",
   "id": "c0db51de",
   "metadata": {},
   "source": [
    "## 1. Defining Your Own Function\n",
    "\n",
    "Functions allow you to write reusable blocks of code. Here’s a simple example of defining and calling a function:\n"
   ]
  },
  {
   "cell_type": "code",
   "execution_count": null,
   "id": "252ef2f2",
   "metadata": {},
   "outputs": [],
   "source": [
    "# Defining a function\n",
    "def greet(name):\n",
    "    \"\"\"This function greets the user by name.\"\"\"\n",
    "    return f\"Hello, {name}!\"\n",
    "\n",
    "# Calling the function\n",
    "print(greet(\"Alice\"))\n"
   ]
  },
  {
   "cell_type": "markdown",
   "id": "069436aa",
   "metadata": {},
   "source": [
    "## 2. Importing Functions from Another File\n",
    "\n",
    "You can also define functions in one Python file and import them into another.\n",
    "\n",
    "### Steps:\n",
    "1. Create a file called `my_functions.py` and define a function inside it.\n",
    "2. Import the function in your main script and use it.\n",
    "\n",
    "Example of `my_functions.py`:\n",
    "```python\n",
    "# my_functions.py\n",
    "def add(a, b):\n",
    "    return a + b\n",
    "```\n",
    "\n",
    "Now, import and use it in another script:\n"
   ]
  },
  {
   "cell_type": "code",
   "execution_count": null,
   "id": "59b58627",
   "metadata": {},
   "outputs": [],
   "source": [
    "# Importing function from another file\n",
    "from my_functions import add\n",
    "\n",
    "# Using the imported function\n",
    "result = add(3, 5)\n",
    "print(f\"The sum is: {result}\")\n"
   ]
  },
  {
   "cell_type": "markdown",
   "id": "d10986e6",
   "metadata": {},
   "source": [
    "## 3. Understanding Recursion\n",
    "\n",
    "A recursive function is a function that calls itself. A common example is the factorial function:\n",
    "\n",
    "**Factorial Formula:**  \n",
    "n! = n × (n-1) × (n-2) × ... × 1\n",
    "\n",
    "Example of a recursive function to compute factorial:\n"
   ]
  },
  {
   "cell_type": "code",
   "execution_count": null,
   "id": "61a597a3",
   "metadata": {},
   "outputs": [],
   "source": [
    "# Recursive function to calculate factorial\n",
    "def factorial(n):\n",
    "    if n == 0 or n == 1:\n",
    "        return 1\n",
    "    else:\n",
    "        return n * factorial(n - 1)\n",
    "\n",
    "# Testing the function\n",
    "print(factorial(5))  # Output: 120\n"
   ]
  }
 ],
 "metadata": {},
 "nbformat": 4,
 "nbformat_minor": 5
}
