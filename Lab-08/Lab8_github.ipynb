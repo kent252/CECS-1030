{
 "cells": [
  {
   "cell_type": "markdown",
   "id": "0c64c55f",
   "metadata": {},
   "source": [
    "# 🌱 Getting Started with Machine Learning in Python\n",
    "**Objective:** Learn how to perform a basic machine learning workflow: import libraries, load data, split, train, and evaluate."
   ]
  },
  {
   "cell_type": "markdown",
   "id": "4b473652",
   "metadata": {},
   "source": [
    "## Step 1: Import Libraries"
   ]
  },
  {
   "cell_type": "code",
   "execution_count": null,
   "id": "3ca1909d",
   "metadata": {},
   "outputs": [],
   "source": [
    "# We import necessary libraries for data handling and ML\n",
    "import pandas as pd\n",
    "from sklearn.model_selection import train_test_split\n",
    "from sklearn.linear_model import LogisticRegression\n",
    "from sklearn.metrics import accuracy_score"
   ]
  },
  {
   "cell_type": "markdown",
   "id": "688b6646",
   "metadata": {},
   "source": [
    "## Step 2: Create or Load a Simple Dataset"
   ]
  },
  {
   "cell_type": "code",
   "execution_count": null,
   "id": "a27abb1f",
   "metadata": {},
   "outputs": [],
   "source": [
    "# Here we create a simple dataset manually\n",
    "data = {\n",
    "    'Hours_Studied': [1, 2, 3, 4, 5, 6, 7, 8, 9, 10],\n",
    "    'Passed_Exam':    [0, 0, 0, 0, 1, 1, 1, 1, 1, 1]\n",
    "}\n",
    "df = pd.DataFrame(data)\n",
    "df"
   ]
  },
  {
   "cell_type": "markdown",
   "id": "d7b994a3",
   "metadata": {},
   "source": [
    "## Step 3: Split Data into Training and Testing"
   ]
  },
  {
   "cell_type": "code",
   "execution_count": null,
   "id": "c0624b81",
   "metadata": {},
   "outputs": [],
   "source": [
    "# Separate features and target\n",
    "X = df[['Hours_Studied']]\n",
    "y = df['Passed_Exam']\n",
    "\n",
    "# Split into train and test sets\n",
    "X_train, X_test, y_train, y_test = train_test_split(X, y, test_size=0.3, random_state=42)\n",
    "X_train, y_train"
   ]
  },
  {
   "cell_type": "markdown",
   "id": "cae0b78f",
   "metadata": {},
   "source": [
    "## Step 4: Train a Logistic Regression Model"
   ]
  },
  {
   "cell_type": "code",
   "execution_count": null,
   "id": "e9a1c7a5",
   "metadata": {},
   "outputs": [],
   "source": [
    "# Train a simple classifier\n",
    "model = LogisticRegression()\n",
    "model.fit(X_train, y_train)"
   ]
  },
  {
   "cell_type": "markdown",
   "id": "729939e4",
   "metadata": {},
   "source": [
    "## Step 5: Evaluate the Model"
   ]
  },
  {
   "cell_type": "code",
   "execution_count": null,
   "id": "4acc6f7c",
   "metadata": {},
   "outputs": [],
   "source": [
    "# Predict on test set\n",
    "y_pred = model.predict(X_test)\n",
    "\n",
    "# Check accuracy\n",
    "accuracy = accuracy_score(y_test, y_pred)\n",
    "print(\"Model Accuracy:\", accuracy)"
   ]
  },
  {
   "cell_type": "markdown",
   "id": "41b27af5",
   "metadata": {},
   "source": [
    "## ✅ Summary\n",
    "- Imported Python ML libraries\n",
    "- Created a small dataset\n",
    "- Split data into train/test\n",
    "- Trained a logistic regression model\n",
    "- Evaluated performance using accuracy\n",
    "\n",
    "**Next:** Try using your own data or more features!"
   ]
  }
 ],
 "metadata": {},
 "nbformat": 4,
 "nbformat_minor": 5
}
